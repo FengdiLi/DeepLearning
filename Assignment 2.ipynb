{
 "cells": [
  {
   "cell_type": "markdown",
   "metadata": {
    "colab_type": "text",
    "id": "7Dvz7YX4CUey"
   },
   "source": [
    "# Assignment 2\n",
    "\n",
    "Fengdi Li"
   ]
  },
  {
   "cell_type": "markdown",
   "metadata": {
    "colab_type": "text",
    "id": "45DdbyAjCUe0"
   },
   "source": [
    "## 1. Autoencoder\n",
    "\n",
    "Build and fit a convolutional autoencoder for the Fashion MNIST dataset. The components of this network will be many of the same pieces we’ve used with convolutional classification networks: Conv2D, MaxPooling, and so on. The encoder part of the network should run the input image through a few convolutional layers of your choice. The decoder part of the network will utilize UpSampling2D to get the representation back to the original image size. After training your network, visualize some examples of input images and their decoded reconstruction. "
   ]
  },
  {
   "cell_type": "code",
   "execution_count": 1,
   "metadata": {
    "colab": {
     "base_uri": "https://localhost:8080/",
     "height": 34
    },
    "colab_type": "code",
    "executionInfo": {
     "elapsed": 1712,
     "status": "ok",
     "timestamp": 1542861676215,
     "user": {
      "displayName": "Fengdi Li",
      "photoUrl": "",
      "userId": "05811759347162149964"
     },
     "user_tz": 300
    },
    "id": "HMRl0c5cCUe1",
    "outputId": "a7843d6a-e277-47ce-cd15-f4d1fb6e44e7"
   },
   "outputs": [
    {
     "name": "stderr",
     "output_type": "stream",
     "text": [
      "Using TensorFlow backend.\n"
     ]
    }
   ],
   "source": [
    "from keras.layers import Input, Dense, Conv2D, MaxPooling2D, UpSampling2D\n",
    "from keras.models import Model\n",
    "from keras import backend as K\n",
    "from keras.datasets import fashion_mnist\n",
    "import matplotlib.pyplot as plt\n",
    "import numpy as np\n",
    "%matplotlib inline"
   ]
  },
  {
   "cell_type": "code",
   "execution_count": 0,
   "metadata": {
    "colab": {},
    "colab_type": "code",
    "collapsed": true,
    "id": "BjzWFGJvCUe2"
   },
   "outputs": [],
   "source": [
    "(x_train, y_train), (x_test, y_test) = fashion_mnist.load_data()"
   ]
  },
  {
   "cell_type": "code",
   "execution_count": 0,
   "metadata": {
    "colab": {},
    "colab_type": "code",
    "collapsed": true,
    "id": "lJCkINPbCUe5"
   },
   "outputs": [],
   "source": [
    "x_train = x_train.astype('float32') / 255.\n",
    "x_test = x_test.astype('float32') / 255.\n",
    "x_train = np.reshape(x_train, (len(x_train), 28, 28, 1))  # adapt this if using `channels_first` image data format\n",
    "x_test = np.reshape(x_test, (len(x_test), 28, 28, 1))  # adapt this if using `channels_first` image data format"
   ]
  },
  {
   "cell_type": "code",
   "execution_count": 0,
   "metadata": {
    "colab": {},
    "colab_type": "code",
    "collapsed": true,
    "id": "nVGNAEHlCUe7"
   },
   "outputs": [],
   "source": [
    "input_img = Input(shape=(28, 28, 1))  # adapt this if using `channels_first` image data format\n",
    "\n",
    "x = Conv2D(16, (3, 3), activation='relu', padding='same')(input_img)\n",
    "x = MaxPooling2D((2, 2), padding='same')(x)\n",
    "x = Conv2D(8, (3, 3), activation='relu', padding='same')(x)\n",
    "x = MaxPooling2D((2, 2), padding='same')(x)\n",
    "x = Conv2D(8, (3, 3), activation='relu', padding='same')(x)\n",
    "encoded = MaxPooling2D((2, 2), padding='same')(x)\n",
    "\n",
    "# at this point the representation is (4, 4, 8) i.e. 128-dimensional\n",
    "\n",
    "x = Conv2D(8, (3, 3), activation='relu', padding='same')(encoded)\n",
    "x = UpSampling2D((2, 2))(x)\n",
    "x = Conv2D(8, (3, 3), activation='relu', padding='same')(x)\n",
    "x = UpSampling2D((2, 2))(x)\n",
    "x = Conv2D(16, (3, 3), activation='relu')(x)\n",
    "x = UpSampling2D((2, 2))(x)\n",
    "decoded = Conv2D(1, (3, 3), activation='sigmoid', padding='same')(x)\n",
    "\n",
    "autoencoder = Model(input_img, decoded)\n",
    "autoencoder.compile(optimizer='adadelta', loss='binary_crossentropy')"
   ]
  },
  {
   "cell_type": "code",
   "execution_count": 0,
   "metadata": {
    "colab": {},
    "colab_type": "code",
    "id": "68T-fuimCUe-",
    "outputId": "6df31e3c-c40f-41a6-f6f4-bbeb5ff83378"
   },
   "outputs": [
    {
     "name": "stdout",
     "output_type": "stream",
     "text": [
      "Train on 60000 samples, validate on 10000 samples\n",
      "Epoch 1/10\n",
      "60000/60000 [==============================] - 160s 3ms/step - loss: 0.2982 - val_loss: 0.2985\n",
      "Epoch 2/10\n",
      "60000/60000 [==============================] - 205s 3ms/step - loss: 0.2971 - val_loss: 0.2999\n",
      "Epoch 3/10\n",
      "60000/60000 [==============================] - 241s 4ms/step - loss: 0.2961 - val_loss: 0.2972\n",
      "Epoch 4/10\n",
      "60000/60000 [==============================] - 196s 3ms/step - loss: 0.2952 - val_loss: 0.2970\n",
      "Epoch 5/10\n",
      "60000/60000 [==============================] - 192s 3ms/step - loss: 0.2945 - val_loss: 0.2965\n",
      "Epoch 6/10\n",
      "60000/60000 [==============================] - 193s 3ms/step - loss: 0.2940 - val_loss: 0.2954\n",
      "Epoch 7/10\n",
      "60000/60000 [==============================] - 191s 3ms/step - loss: 0.2938 - val_loss: 0.2936\n",
      "Epoch 8/10\n",
      "60000/60000 [==============================] - 214s 4ms/step - loss: 0.2923 - val_loss: 0.2933\n",
      "Epoch 9/10\n",
      "60000/60000 [==============================] - 198s 3ms/step - loss: 0.2920 - val_loss: 0.2913\n",
      "Epoch 10/10\n",
      "60000/60000 [==============================] - 194s 3ms/step - loss: 0.2913 - val_loss: 0.2965\n"
     ]
    },
    {
     "data": {
      "text/plain": [
       "<keras.callbacks.History at 0x16c46758be0>"
      ]
     },
     "execution_count": 18,
     "metadata": {
      "tags": []
     },
     "output_type": "execute_result"
    }
   ],
   "source": [
    "autoencoder.fit(x_train, x_train,\n",
    "                epochs=10,\n",
    "                batch_size=128,\n",
    "                shuffle=True,\n",
    "                validation_data=(x_test, x_test))"
   ]
  },
  {
   "cell_type": "code",
   "execution_count": 0,
   "metadata": {
    "colab": {},
    "colab_type": "code",
    "id": "niK-5k2WCUfB",
    "outputId": "e1625e90-73d1-49f9-a5f9-919ef0e532b5"
   },
   "outputs": [
    {
     "data": {
      "image/png": "[encoded data removed]",
      "text/plain": [
       "<matplotlib.figure.Figure at 0x16c4679a080>"
      ]
     },
     "metadata": {
      "tags": []
     },
     "output_type": "display_data"
    }
   ],
   "source": [
    "autoencoder.save('Antoencoder.h5')\n",
    "decoded_imgs = autoencoder.predict(x_test)\n",
    "\n",
    "n = 10\n",
    "plt.figure(figsize=(20, 4))\n",
    "for i in range(n):\n",
    "    # display original\n",
    "    ax = plt.subplot(2, n, i + 1)\n",
    "    plt.imshow(x_test[i].reshape(28, 28))\n",
    "    plt.gray()\n",
    "    ax.get_xaxis().set_visible(False)\n",
    "    ax.get_yaxis().set_visible(False)\n",
    "\n",
    "    # display reconstruction\n",
    "    ax = plt.subplot(2, n, i + n + 1)\n",
    "    plt.imshow(decoded_imgs[i].reshape(28, 28))\n",
    "    plt.gray()\n",
    "    ax.get_xaxis().set_visible(False)\n",
    "    ax.get_yaxis().set_visible(False)\n",
    "plt.show()"
   ]
  },
  {
   "cell_type": "markdown",
   "metadata": {
    "colab_type": "text",
    "id": "YZz1xMV3CUfD"
   },
   "source": [
    "## 2. Image Classification\n",
    "We’ll continue to use the Fashion MNIST dataset and build a deep convolutional network for classification."
   ]
  },
  {
   "cell_type": "markdown",
   "metadata": {
    "colab_type": "text",
    "id": "v-opi6cICUfE"
   },
   "source": [
    "### 2.1 Deep CNN\n",
    "\n",
    "Build a deep CNN to classify the images. Provide a brief description of the architectural choices you’ve made: kernel sizes, strides, padding, network depth. Train your network end-to-end. Report on your model’s performance on training set and test set."
   ]
  },
  {
   "cell_type": "code",
   "execution_count": 12,
   "metadata": {
    "colab": {
     "base_uri": "https://localhost:8080/",
     "height": 67
    },
    "colab_type": "code",
    "executionInfo": {
     "elapsed": 820,
     "status": "ok",
     "timestamp": 1542860033406,
     "user": {
      "displayName": "Fengdi Li",
      "photoUrl": "",
      "userId": "05811759347162149964"
     },
     "user_tz": 300
    },
    "id": "n6JNgVAWCUfF",
    "outputId": "5972fe83-d191-4aad-9415-84d3baeb22b6"
   },
   "outputs": [
    {
     "name": "stdout",
     "output_type": "stream",
     "text": [
      "(60000,)\n",
      "[9 0 0 3 0 2 7 2 5 5]\n",
      "(60000, 10)\n"
     ]
    }
   ],
   "source": [
    "# Tools for data transformation\n",
    "from keras.utils import np_utils\n",
    "\n",
    "# Processing class labels they are currently a numeric vector\n",
    "# ----> we need to transform them into categories\n",
    "print(y_train.shape)\n",
    "print(y_train[:10])\n",
    "\n",
    "# We do this through one-hot encoding\n",
    "# Convert 1-dimensional class arrays to 10-dimensional class matrices\n",
    "Y_train = np_utils.to_categorical(y_train, 10)\n",
    "Y_test = np_utils.to_categorical(y_test, 10)\n",
    "# Check the shape\n",
    "print(Y_train.shape)"
   ]
  },
  {
   "cell_type": "code",
   "execution_count": 0,
   "metadata": {
    "colab": {
     "base_uri": "https://localhost:8080/",
     "height": 403
    },
    "colab_type": "code",
    "executionInfo": {
     "elapsed": 452,
     "status": "ok",
     "timestamp": 1542853799385,
     "user": {
      "displayName": "Fengdi Li",
      "photoUrl": "",
      "userId": "05811759347162149964"
     },
     "user_tz": 300
    },
    "id": "mv6uM37ACUfI",
    "outputId": "27715e4d-b43b-49b5-f72f-51f0c5ed7df4"
   },
   "outputs": [
    {
     "name": "stdout",
     "output_type": "stream",
     "text": [
      "(None, 26, 26, 32)\n",
      "_________________________________________________________________\n",
      "Layer (type)                 Output Shape              Param #   \n",
      "=================================================================\n",
      "conv2d_1 (Conv2D)            (None, 26, 26, 32)        320       \n",
      "_________________________________________________________________\n",
      "conv2d_2 (Conv2D)            (None, 24, 24, 32)        9248      \n",
      "_________________________________________________________________\n",
      "dropout_1 (Dropout)          (None, 24, 24, 32)        0         \n",
      "_________________________________________________________________\n",
      "flatten_1 (Flatten)          (None, 18432)             0         \n",
      "_________________________________________________________________\n",
      "dense_1 (Dense)              (None, 64)                1179712   \n",
      "_________________________________________________________________\n",
      "dropout_2 (Dropout)          (None, 64)                0         \n",
      "_________________________________________________________________\n",
      "dense_2 (Dense)              (None, 10)                650       \n",
      "=================================================================\n",
      "Total params: 1,189,930\n",
      "Trainable params: 1,189,930\n",
      "Non-trainable params: 0\n",
      "_________________________________________________________________\n",
      "None\n"
     ]
    }
   ],
   "source": [
    "# =============================\n",
    "#  Setting up the Architecture\n",
    "# ============================\n",
    "# Declaring sequential model\n",
    "from keras.models import Sequential\n",
    "from keras.layers import Dropout, Flatten\n",
    "\n",
    "model = Sequential()\n",
    "# CNN input layer: input_shape: (depth,width,height)\n",
    "# CNN convolution: number of filters, height and width of kernel\n",
    "model.add(Conv2D(filters = 32,kernel_size=(3, 3), \n",
    "                 activation='relu', strides=(1, 1), \n",
    "                 padding='valid',\n",
    "                 input_shape=(28,28,1)))\n",
    "# Notice here the the first entry output is none\n",
    "print(model.output_shape)\n",
    "\n",
    "# Next we add the remaining layers with 2 by 2 Maxpooling layer and 0.2 Dropout rate\n",
    "model.add(Conv2D(filters = 32,kernel_size=(3, 3), \n",
    "                 activation='relu', strides=(1, 1), \n",
    "                 padding='valid'))\n",
    "\n",
    "model.add(Dropout(0.2))\n",
    "\n",
    "# Setting up the fully connected layer with 64 Dense nodes, and 0.2 Dropout rate\n",
    "model.add(Flatten())\n",
    "model.add(Dense(64, activation='relu'))\n",
    "model.add(Dropout(0.2))\n",
    "\n",
    "# Class layer\n",
    "model.add(Dense(10, activation='softmax'))\n",
    "print(model.summary())"
   ]
  },
  {
   "cell_type": "code",
   "execution_count": 0,
   "metadata": {
    "colab": {
     "base_uri": "https://localhost:8080/",
     "height": 370
    },
    "colab_type": "code",
    "executionInfo": {
     "elapsed": 79185,
     "status": "ok",
     "timestamp": 1542853887013,
     "user": {
      "displayName": "Fengdi Li",
      "photoUrl": "",
      "userId": "05811759347162149964"
     },
     "user_tz": 300
    },
    "id": "c7ElvKzMCUfK",
    "outputId": "7b03e980-9ed5-4406-9ded-9fd5d12eb086"
   },
   "outputs": [
    {
     "name": "stdout",
     "output_type": "stream",
     "text": [
      "Epoch 1/10\n",
      "60000/60000 [==============================] - 11s 187us/step - loss: 0.4969 - acc: 0.8241\n",
      "Epoch 2/10\n",
      "60000/60000 [==============================] - 7s 119us/step - loss: 0.3235 - acc: 0.8834\n",
      "Epoch 3/10\n",
      "60000/60000 [==============================] - 7s 119us/step - loss: 0.2733 - acc: 0.8982\n",
      "Epoch 4/10\n",
      "60000/60000 [==============================] - 7s 121us/step - loss: 0.2387 - acc: 0.9126\n",
      "Epoch 5/10\n",
      "60000/60000 [==============================] - 7s 123us/step - loss: 0.2102 - acc: 0.9216\n",
      "Epoch 6/10\n",
      "60000/60000 [==============================] - 7s 123us/step - loss: 0.1850 - acc: 0.9302\n",
      "Epoch 7/10\n",
      "60000/60000 [==============================] - 7s 123us/step - loss: 0.1645 - acc: 0.9379\n",
      "Epoch 8/10\n",
      "60000/60000 [==============================] - 7s 123us/step - loss: 0.1480 - acc: 0.9442\n",
      "Epoch 9/10\n",
      "60000/60000 [==============================] - 7s 124us/step - loss: 0.1290 - acc: 0.9507\n",
      "Epoch 10/10\n",
      "60000/60000 [==============================] - 7s 124us/step - loss: 0.1177 - acc: 0.9553\n",
      "10000/10000 [==============================] - 1s 86us/step\n"
     ]
    }
   ],
   "source": [
    "# =====================\n",
    "#  Compiling the model\n",
    "# =====================\n",
    "model.compile(loss='categorical_crossentropy',\n",
    "              optimizer='adam',\n",
    "              metrics=['accuracy'])\n",
    "\n",
    "# ===================\n",
    "# Fitting the model\n",
    "# ===================\n",
    "model.fit(x_train, Y_train,\n",
    "          epochs=10,\n",
    "          batch_size=128,\n",
    "          verbose = 1)\n",
    "# =====================\n",
    "#  Evaluating the model\n",
    "# =====================\n",
    "score = model.evaluate(x_test, Y_test, verbose=1)"
   ]
  },
  {
   "cell_type": "code",
   "execution_count": 0,
   "metadata": {
    "colab": {
     "base_uri": "https://localhost:8080/",
     "height": 50
    },
    "colab_type": "code",
    "executionInfo": {
     "elapsed": 809,
     "status": "ok",
     "timestamp": 1542853892328,
     "user": {
      "displayName": "Fengdi Li",
      "photoUrl": "",
      "userId": "05811759347162149964"
     },
     "user_tz": 300
    },
    "id": "aEvRGmHGGHOa",
    "outputId": "886350a0-870d-4d7d-cf37-9fa03487bbfa"
   },
   "outputs": [
    {
     "name": "stdout",
     "output_type": "stream",
     "text": [
      "Test loss: 0.2630166961163282\n",
      "Test accuracy: 0.9171\n"
     ]
    }
   ],
   "source": [
    "print('Test loss:', score[0])\n",
    "print('Test accuracy:', score[1])"
   ]
  },
  {
   "cell_type": "markdown",
   "metadata": {
    "colab": {},
    "colab_type": "code",
    "id": "YSDfHY0eCUfN"
   },
   "source": [
    "The model have a 0.96 accuracy on the training set and 0.92 accuracy on the test set."
   ]
  },
  {
   "cell_type": "code",
   "execution_count": 0,
   "metadata": {
    "colab": {
     "base_uri": "https://localhost:8080/",
     "height": 390
    },
    "colab_type": "code",
    "executionInfo": {
     "elapsed": 916,
     "status": "ok",
     "timestamp": 1542853898534,
     "user": {
      "displayName": "Fengdi Li",
      "photoUrl": "",
      "userId": "05811759347162149964"
     },
     "user_tz": 300
    },
    "id": "SF6Kme84CUfP",
    "outputId": "8b9e849e-c704-4d9d-d477-2a70716e86e2"
   },
   "outputs": [
    {
     "name": "stdout",
     "output_type": "stream",
     "text": [
      "512/512 [==============================] - 0s 178us/step\n"
     ]
    },
    {
     "data": {
      "text/html": [
       "<div>\n",
       "<style scoped>\n",
       "    .dataframe tbody tr th:only-of-type {\n",
       "        vertical-align: middle;\n",
       "    }\n",
       "\n",
       "    .dataframe tbody tr th {\n",
       "        vertical-align: top;\n",
       "    }\n",
       "\n",
       "    .dataframe thead th {\n",
       "        text-align: right;\n",
       "    }\n",
       "</style>\n",
       "<table border=\"1\" class=\"dataframe\">\n",
       "  <thead>\n",
       "    <tr style=\"text-align: right;\">\n",
       "      <th>True Value</th>\n",
       "      <th>0</th>\n",
       "      <th>1</th>\n",
       "      <th>2</th>\n",
       "      <th>3</th>\n",
       "      <th>4</th>\n",
       "      <th>5</th>\n",
       "      <th>6</th>\n",
       "      <th>7</th>\n",
       "      <th>8</th>\n",
       "      <th>9</th>\n",
       "    </tr>\n",
       "    <tr>\n",
       "      <th>Predicted Value</th>\n",
       "      <th></th>\n",
       "      <th></th>\n",
       "      <th></th>\n",
       "      <th></th>\n",
       "      <th></th>\n",
       "      <th></th>\n",
       "      <th></th>\n",
       "      <th></th>\n",
       "      <th></th>\n",
       "      <th></th>\n",
       "    </tr>\n",
       "  </thead>\n",
       "  <tbody>\n",
       "    <tr>\n",
       "      <th>0</th>\n",
       "      <td>50</td>\n",
       "      <td>0</td>\n",
       "      <td>1</td>\n",
       "      <td>1</td>\n",
       "      <td>0</td>\n",
       "      <td>0</td>\n",
       "      <td>0</td>\n",
       "      <td>0</td>\n",
       "      <td>0</td>\n",
       "      <td>0</td>\n",
       "    </tr>\n",
       "    <tr>\n",
       "      <th>1</th>\n",
       "      <td>0</td>\n",
       "      <td>53</td>\n",
       "      <td>0</td>\n",
       "      <td>0</td>\n",
       "      <td>0</td>\n",
       "      <td>0</td>\n",
       "      <td>0</td>\n",
       "      <td>0</td>\n",
       "      <td>0</td>\n",
       "      <td>0</td>\n",
       "    </tr>\n",
       "    <tr>\n",
       "      <th>2</th>\n",
       "      <td>1</td>\n",
       "      <td>0</td>\n",
       "      <td>63</td>\n",
       "      <td>0</td>\n",
       "      <td>4</td>\n",
       "      <td>0</td>\n",
       "      <td>2</td>\n",
       "      <td>0</td>\n",
       "      <td>0</td>\n",
       "      <td>0</td>\n",
       "    </tr>\n",
       "    <tr>\n",
       "      <th>3</th>\n",
       "      <td>0</td>\n",
       "      <td>0</td>\n",
       "      <td>0</td>\n",
       "      <td>41</td>\n",
       "      <td>4</td>\n",
       "      <td>0</td>\n",
       "      <td>2</td>\n",
       "      <td>0</td>\n",
       "      <td>0</td>\n",
       "      <td>0</td>\n",
       "    </tr>\n",
       "    <tr>\n",
       "      <th>4</th>\n",
       "      <td>0</td>\n",
       "      <td>0</td>\n",
       "      <td>2</td>\n",
       "      <td>3</td>\n",
       "      <td>47</td>\n",
       "      <td>0</td>\n",
       "      <td>4</td>\n",
       "      <td>0</td>\n",
       "      <td>0</td>\n",
       "      <td>0</td>\n",
       "    </tr>\n",
       "    <tr>\n",
       "      <th>5</th>\n",
       "      <td>0</td>\n",
       "      <td>0</td>\n",
       "      <td>0</td>\n",
       "      <td>0</td>\n",
       "      <td>0</td>\n",
       "      <td>40</td>\n",
       "      <td>0</td>\n",
       "      <td>1</td>\n",
       "      <td>0</td>\n",
       "      <td>1</td>\n",
       "    </tr>\n",
       "    <tr>\n",
       "      <th>6</th>\n",
       "      <td>5</td>\n",
       "      <td>0</td>\n",
       "      <td>5</td>\n",
       "      <td>1</td>\n",
       "      <td>3</td>\n",
       "      <td>0</td>\n",
       "      <td>39</td>\n",
       "      <td>0</td>\n",
       "      <td>0</td>\n",
       "      <td>0</td>\n",
       "    </tr>\n",
       "    <tr>\n",
       "      <th>7</th>\n",
       "      <td>0</td>\n",
       "      <td>0</td>\n",
       "      <td>0</td>\n",
       "      <td>0</td>\n",
       "      <td>0</td>\n",
       "      <td>0</td>\n",
       "      <td>0</td>\n",
       "      <td>47</td>\n",
       "      <td>0</td>\n",
       "      <td>3</td>\n",
       "    </tr>\n",
       "    <tr>\n",
       "      <th>8</th>\n",
       "      <td>0</td>\n",
       "      <td>0</td>\n",
       "      <td>0</td>\n",
       "      <td>0</td>\n",
       "      <td>0</td>\n",
       "      <td>0</td>\n",
       "      <td>0</td>\n",
       "      <td>0</td>\n",
       "      <td>45</td>\n",
       "      <td>0</td>\n",
       "    </tr>\n",
       "    <tr>\n",
       "      <th>9</th>\n",
       "      <td>0</td>\n",
       "      <td>0</td>\n",
       "      <td>0</td>\n",
       "      <td>0</td>\n",
       "      <td>0</td>\n",
       "      <td>0</td>\n",
       "      <td>0</td>\n",
       "      <td>0</td>\n",
       "      <td>0</td>\n",
       "      <td>44</td>\n",
       "    </tr>\n",
       "  </tbody>\n",
       "</table>\n",
       "</div>"
      ],
      "text/plain": [
       "True Value        0   1   2   3   4   5   6   7   8   9\n",
       "Predicted Value                                        \n",
       "0                50   0   1   1   0   0   0   0   0   0\n",
       "1                 0  53   0   0   0   0   0   0   0   0\n",
       "2                 1   0  63   0   4   0   2   0   0   0\n",
       "3                 0   0   0  41   4   0   2   0   0   0\n",
       "4                 0   0   2   3  47   0   4   0   0   0\n",
       "5                 0   0   0   0   0  40   0   1   0   1\n",
       "6                 5   0   5   1   3   0  39   0   0   0\n",
       "7                 0   0   0   0   0   0   0  47   0   3\n",
       "8                 0   0   0   0   0   0   0   0  45   0\n",
       "9                 0   0   0   0   0   0   0   0   0  44"
      ]
     },
     "execution_count": 11,
     "metadata": {
      "tags": []
     },
     "output_type": "execute_result"
    }
   ],
   "source": [
    "import pandas as pd\n",
    "\n",
    "predicted_values = model.predict_classes(x_test[0:2**9], batch_size=32, verbose=1)\n",
    "pd.crosstab(predicted_values, y_test[0:2**9],\n",
    "            rownames=['Predicted Value'], colnames= ['True Value'])"
   ]
  },
  {
   "cell_type": "markdown",
   "metadata": {
    "colab_type": "text",
    "id": "murDgiyuCUfU"
   },
   "source": [
    "### 2.2 Transfer Learning\n",
    "\n",
    "Repeat the same task, but this time utilize a pre-trained network for the majority of your model. You should only train the final Dense layer, all other weights 1 should be fixed. You can use whichever pre-trained backbone you like (ResNet, VGG, etc). Report on your model’s performance on training set and test set."
   ]
  },
  {
   "cell_type": "code",
   "execution_count": 0,
   "metadata": {
    "colab": {},
    "colab_type": "code",
    "collapsed": true,
    "id": "vE46giiBCUfV"
   },
   "outputs": [],
   "source": [
    "from keras.applications import VGG19\n",
    "import matplotlib.pyplot as plt\n",
    "from keras.preprocessing.image import ImageDataGenerator, array_to_img, img_to_array, load_img\n",
    "from keras.datasets import fashion_mnist\n",
    "from keras.utils import np_utils\n",
    "from keras.models import Sequential\n",
    "from keras.layers import Dense, Dropout, Flatten"
   ]
  },
  {
   "cell_type": "code",
   "execution_count": 0,
   "metadata": {
    "colab": {},
    "colab_type": "code",
    "collapsed": true,
    "id": "yjUNnWbeCUfZ"
   },
   "outputs": [],
   "source": [
    "# minimum input size\n",
    "conv_base = VGG19(weights=\"imagenet\",include_top=False,input_shape=(48,48,3))"
   ]
  },
  {
   "cell_type": "code",
   "execution_count": 0,
   "metadata": {
    "colab": {},
    "colab_type": "code",
    "collapsed": true,
    "id": "oReWV1erCUfc"
   },
   "outputs": [],
   "source": [
    "add_model = Sequential()\n",
    "add_model.add(conv_base)\n",
    "add_model.add(Flatten())\n",
    "add_model.add(Dense(256, activation=\"relu\"))\n",
    "add_model.add(Dropout(0.25))\n",
    "add_model.add(Dense(128, activation=\"relu\"))\n",
    "add_model.add(Dropout(0.25))\n",
    "add_model.add(Dense(10, activation='softmax'))"
   ]
  },
  {
   "cell_type": "code",
   "execution_count": 5,
   "metadata": {
    "colab": {
     "base_uri": "https://localhost:8080/",
     "height": 118
    },
    "colab_type": "code",
    "executionInfo": {
     "elapsed": 427,
     "status": "ok",
     "timestamp": 1542861700001,
     "user": {
      "displayName": "Fengdi Li",
      "photoUrl": "",
      "userId": "05811759347162149964"
     },
     "user_tz": 300
    },
    "id": "b8fMGPGPCUff",
    "outputId": "f576b7e3-af09-4dcd-dcef-f678b9d8cd7d"
   },
   "outputs": [
    {
     "data": {
      "text/plain": [
       "[<tf.Variable 'dense_1/kernel:0' shape=(512, 256) dtype=float32_ref>,\n",
       " <tf.Variable 'dense_1/bias:0' shape=(256,) dtype=float32_ref>,\n",
       " <tf.Variable 'dense_2/kernel:0' shape=(256, 128) dtype=float32_ref>,\n",
       " <tf.Variable 'dense_2/bias:0' shape=(128,) dtype=float32_ref>,\n",
       " <tf.Variable 'dense_3/kernel:0' shape=(128, 10) dtype=float32_ref>,\n",
       " <tf.Variable 'dense_3/bias:0' shape=(10,) dtype=float32_ref>]"
      ]
     },
     "execution_count": 5,
     "metadata": {
      "tags": []
     },
     "output_type": "execute_result"
    }
   ],
   "source": [
    "conv_base.trainable = False\n",
    "add_model.trainable_weights"
   ]
  },
  {
   "cell_type": "code",
   "execution_count": 6,
   "metadata": {
    "colab": {
     "base_uri": "https://localhost:8080/",
     "height": 370
    },
    "colab_type": "code",
    "executionInfo": {
     "elapsed": 853,
     "status": "ok",
     "timestamp": 1542861706014,
     "user": {
      "displayName": "Fengdi Li",
      "photoUrl": "",
      "userId": "05811759347162149964"
     },
     "user_tz": 300
    },
    "id": "An-xOQikCUfi",
    "outputId": "b5ac9aab-7a83-454b-f46c-28ddbdafe743"
   },
   "outputs": [
    {
     "name": "stdout",
     "output_type": "stream",
     "text": [
      "_________________________________________________________________\n",
      "Layer (type)                 Output Shape              Param #   \n",
      "=================================================================\n",
      "vgg19 (Model)                (None, 1, 1, 512)         20024384  \n",
      "_________________________________________________________________\n",
      "flatten_1 (Flatten)          (None, 512)               0         \n",
      "_________________________________________________________________\n",
      "dense_1 (Dense)              (None, 256)               131328    \n",
      "_________________________________________________________________\n",
      "dropout_1 (Dropout)          (None, 256)               0         \n",
      "_________________________________________________________________\n",
      "dense_2 (Dense)              (None, 128)               32896     \n",
      "_________________________________________________________________\n",
      "dropout_2 (Dropout)          (None, 128)               0         \n",
      "_________________________________________________________________\n",
      "dense_3 (Dense)              (None, 10)                1290      \n",
      "=================================================================\n",
      "Total params: 20,189,898\n",
      "Trainable params: 165,514\n",
      "Non-trainable params: 20,024,384\n",
      "_________________________________________________________________\n"
     ]
    }
   ],
   "source": [
    "add_model.compile(loss='categorical_crossentropy', optimizer='adam', metrics=[\"acc\"])\n",
    "add_model.summary()"
   ]
  },
  {
   "cell_type": "code",
   "execution_count": 24,
   "metadata": {
    "colab": {
     "base_uri": "https://localhost:8080/",
     "height": 34
    },
    "colab_type": "code",
    "executionInfo": {
     "elapsed": 16533,
     "status": "ok",
     "timestamp": 1542863672385,
     "user": {
      "displayName": "Fengdi Li",
      "photoUrl": "",
      "userId": "05811759347162149964"
     },
     "user_tz": 300
    },
    "id": "m5u5MT_fCUfk",
    "outputId": "8e3aee04-7e9d-4cda-fa23-a2f8aa15a118"
   },
   "outputs": [
    {
     "data": {
      "text/plain": [
       "((60000, 48, 48, 3), (10000, 48, 48, 3))"
      ]
     },
     "execution_count": 24,
     "metadata": {
      "tags": []
     },
     "output_type": "execute_result"
    }
   ],
   "source": [
    "# Duplicate images in 3 channels\n",
    "(x_train, y_train), (x_test, y_test) = fashion_mnist.load_data()\n",
    "\n",
    "Y_train = np_utils.to_categorical(y_train, 10)\n",
    "Y_test = np_utils.to_categorical(y_test, 10)\n",
    "\n",
    "x_train = np.dstack([x_train] * 3)\n",
    "x_test = np.dstack([x_test] * 3)\n",
    "\n",
    "x_train = x_train.reshape(-1, 28, 28, 3)\n",
    "x_test = x_test.reshape (-1, 28, 28, 3)\n",
    "x_train = np.asarray([img_to_array(array_to_img(im, scale=False).resize((48,48))) for im in x_train])/255.\n",
    "x_test = np.asarray([img_to_array(array_to_img(im, scale=False).resize((48,48))) for im in x_test])/255.\n",
    "\n",
    "x_train.shape, x_test.shape"
   ]
  },
  {
   "cell_type": "code",
   "execution_count": 26,
   "metadata": {
    "colab": {
     "base_uri": "https://localhost:8080/",
     "height": 370
    },
    "colab_type": "code",
    "executionInfo": {
     "elapsed": 404583,
     "status": "ok",
     "timestamp": 1542864105326,
     "user": {
      "displayName": "Fengdi Li",
      "photoUrl": "",
      "userId": "05811759347162149964"
     },
     "user_tz": 300
    },
    "id": "AdU1CrlvCUfo",
    "outputId": "c4d09ab5-ddfc-4c7b-a955-2e32dd006744"
   },
   "outputs": [
    {
     "name": "stdout",
     "output_type": "stream",
     "text": [
      "Epoch 1/10\n",
      "60000/60000 [==============================] - 41s 676us/step - loss: 0.4678 - acc: 0.8290\n",
      "Epoch 2/10\n",
      "60000/60000 [==============================] - 40s 673us/step - loss: 0.4529 - acc: 0.8347\n",
      "Epoch 3/10\n",
      "60000/60000 [==============================] - 40s 674us/step - loss: 0.4410 - acc: 0.8370\n",
      "Epoch 4/10\n",
      "60000/60000 [==============================] - 40s 673us/step - loss: 0.4261 - acc: 0.8441\n",
      "Epoch 5/10\n",
      "60000/60000 [==============================] - 41s 676us/step - loss: 0.4201 - acc: 0.8432\n",
      "Epoch 6/10\n",
      "60000/60000 [==============================] - 40s 674us/step - loss: 0.4098 - acc: 0.8479\n",
      "Epoch 7/10\n",
      "60000/60000 [==============================] - 40s 673us/step - loss: 0.4026 - acc: 0.8520\n",
      "Epoch 8/10\n",
      "60000/60000 [==============================] - 40s 674us/step - loss: 0.3954 - acc: 0.8537\n",
      "Epoch 9/10\n",
      "60000/60000 [==============================] - 40s 673us/step - loss: 0.3907 - acc: 0.8554\n",
      "Epoch 10/10\n",
      "60000/60000 [==============================] - 40s 672us/step - loss: 0.3845 - acc: 0.8570\n"
     ]
    },
    {
     "data": {
      "text/plain": [
       "<keras.callbacks.History at 0x7f2f3596b7f0>"
      ]
     },
     "execution_count": 26,
     "metadata": {
      "tags": []
     },
     "output_type": "execute_result"
    }
   ],
   "source": [
    "add_model.fit(x_train, Y_train,\n",
    "          epochs=10,\n",
    "          batch_size=128,\n",
    "          verbose = 1)"
   ]
  },
  {
   "cell_type": "code",
   "execution_count": 27,
   "metadata": {
    "colab": {
     "base_uri": "https://localhost:8080/",
     "height": 67
    },
    "colab_type": "code",
    "executionInfo": {
     "elapsed": 10858,
     "status": "ok",
     "timestamp": 1542864227872,
     "user": {
      "displayName": "Fengdi Li",
      "photoUrl": "",
      "userId": "05811759347162149964"
     },
     "user_tz": 300
    },
    "id": "N2_Cu-CrCUfr",
    "outputId": "a3722c2c-602a-48d5-cea4-4b0be28b606e"
   },
   "outputs": [
    {
     "name": "stdout",
     "output_type": "stream",
     "text": [
      "10000/10000 [==============================] - 11s 1ms/step\n",
      "Test loss: 0.4216397376775742\n",
      "Test accuracy: 0.8466\n"
     ]
    }
   ],
   "source": [
    "# =====================\n",
    "#  Evaluating the model\n",
    "# =====================\n",
    "score = add_model.evaluate(x_test, Y_test, verbose=1)\n",
    "print('Test loss:', score[0])\n",
    "print('Test accuracy:', score[1])"
   ]
  },
  {
   "cell_type": "markdown",
   "metadata": {},
   "source": [
    "As presented above, the model has a 0.86 accuracy on training set and 0.85 accuracy on test set, so the previous CNN model performs better."
   ]
  },
  {
   "cell_type": "markdown",
   "metadata": {
    "colab_type": "text",
    "id": "TFyS7ixGCUft"
   },
   "source": [
    "## 3. Text Classification\n",
    "\n",
    "In this problem, we will tackle the task of text classification in the context of cybersecurity."
   ]
  },
  {
   "cell_type": "code",
   "execution_count": 0,
   "metadata": {
    "colab": {},
    "colab_type": "code",
    "collapsed": true,
    "id": "-qBpCV4_CUfv"
   },
   "outputs": [],
   "source": [
    "df_benigh = pd.read_csv('https://s3.amazonaws.com/anly-590/url-classification/benign-urls.txt')\n",
    "df_malicious = pd.read_csv('https://s3.amazonaws.com/anly-590/url-classification/malicious-urls.txt', header = None)"
   ]
  },
  {
   "cell_type": "code",
   "execution_count": 0,
   "metadata": {
    "colab": {},
    "colab_type": "code",
    "id": "io5cE0ZvCUfx",
    "outputId": "39c81308-6871-4062-f715-48638c622345"
   },
   "outputs": [
    {
     "name": "stdout",
     "output_type": "stream",
     "text": [
      "(66056, 1)\n"
     ]
    },
    {
     "data": {
      "text/html": [
       "<div>\n",
       "<style scoped>\n",
       "    .dataframe tbody tr th:only-of-type {\n",
       "        vertical-align: middle;\n",
       "    }\n",
       "\n",
       "    .dataframe tbody tr th {\n",
       "        vertical-align: top;\n",
       "    }\n",
       "\n",
       "    .dataframe thead th {\n",
       "        text-align: right;\n",
       "    }\n",
       "</style>\n",
       "<table border=\"1\" class=\"dataframe\">\n",
       "  <thead>\n",
       "    <tr style=\"text-align: right;\">\n",
       "      <th></th>\n",
       "      <th>urls</th>\n",
       "    </tr>\n",
       "  </thead>\n",
       "  <tbody>\n",
       "    <tr>\n",
       "      <th>0</th>\n",
       "      <td>.0.blogger.gmodules.com</td>\n",
       "    </tr>\n",
       "    <tr>\n",
       "      <th>1</th>\n",
       "      <td>.0.client-channel.google.com</td>\n",
       "    </tr>\n",
       "    <tr>\n",
       "      <th>2</th>\n",
       "      <td>.0.docs.google.com</td>\n",
       "    </tr>\n",
       "    <tr>\n",
       "      <th>3</th>\n",
       "      <td>.0.drive.google.com</td>\n",
       "    </tr>\n",
       "    <tr>\n",
       "      <th>4</th>\n",
       "      <td>.0.gvt0.cn</td>\n",
       "    </tr>\n",
       "  </tbody>\n",
       "</table>\n",
       "</div>"
      ],
      "text/plain": [
       "                           urls\n",
       "0       .0.blogger.gmodules.com\n",
       "1  .0.client-channel.google.com\n",
       "2            .0.docs.google.com\n",
       "3           .0.drive.google.com\n",
       "4                    .0.gvt0.cn"
      ]
     },
     "execution_count": 75,
     "metadata": {
      "tags": []
     },
     "output_type": "execute_result"
    }
   ],
   "source": [
    "df_benigh.columns = ['urls']\n",
    "print(df_benigh.shape)\n",
    "df_benigh.head()"
   ]
  },
  {
   "cell_type": "code",
   "execution_count": 0,
   "metadata": {
    "colab": {},
    "colab_type": "code",
    "id": "rRSbzwbJCUfz",
    "outputId": "f2f9b326-744d-4741-bd49-ae69ef53aa80"
   },
   "outputs": [
    {
     "name": "stdout",
     "output_type": "stream",
     "text": [
      "(1296, 1)\n"
     ]
    },
    {
     "data": {
      "text/html": [
       "<div>\n",
       "<style scoped>\n",
       "    .dataframe tbody tr th:only-of-type {\n",
       "        vertical-align: middle;\n",
       "    }\n",
       "\n",
       "    .dataframe tbody tr th {\n",
       "        vertical-align: top;\n",
       "    }\n",
       "\n",
       "    .dataframe thead th {\n",
       "        text-align: right;\n",
       "    }\n",
       "</style>\n",
       "<table border=\"1\" class=\"dataframe\">\n",
       "  <thead>\n",
       "    <tr style=\"text-align: right;\">\n",
       "      <th></th>\n",
       "      <th>urls</th>\n",
       "    </tr>\n",
       "  </thead>\n",
       "  <tbody>\n",
       "    <tr>\n",
       "      <th>0</th>\n",
       "      <td>.1337x.pl</td>\n",
       "    </tr>\n",
       "    <tr>\n",
       "      <th>1</th>\n",
       "      <td>.1link.io</td>\n",
       "    </tr>\n",
       "    <tr>\n",
       "      <th>2</th>\n",
       "      <td>.1n.pm</td>\n",
       "    </tr>\n",
       "    <tr>\n",
       "      <th>3</th>\n",
       "      <td>.22apple.com</td>\n",
       "    </tr>\n",
       "    <tr>\n",
       "      <th>4</th>\n",
       "      <td>.22find.com</td>\n",
       "    </tr>\n",
       "  </tbody>\n",
       "</table>\n",
       "</div>"
      ],
      "text/plain": [
       "           urls\n",
       "0     .1337x.pl\n",
       "1     .1link.io\n",
       "2        .1n.pm\n",
       "3  .22apple.com\n",
       "4   .22find.com"
      ]
     },
     "execution_count": 76,
     "metadata": {
      "tags": []
     },
     "output_type": "execute_result"
    }
   ],
   "source": [
    "df_malicious.columns = ['urls']\n",
    "print(df_malicious.shape)\n",
    "df_malicious.head()"
   ]
  },
  {
   "cell_type": "markdown",
   "metadata": {
    "colab_type": "text",
    "id": "jWU04yv_CUf2"
   },
   "source": [
    "### 3.1 RNN\n",
    "\n",
    "Build and train a Recurrent Neural Network to solve this text classification task. You can use any type of RNN you wish (SimpleRNN, GRU, LSTM)."
   ]
  },
  {
   "cell_type": "code",
   "execution_count": 0,
   "metadata": {
    "colab": {},
    "colab_type": "code",
    "collapsed": true,
    "id": "f1GpX4JqCUf2"
   },
   "outputs": [],
   "source": [
    "from sklearn.model_selection import train_test_split\n",
    "from keras.preprocessing import sequence\n",
    "from keras.preprocessing.text import Tokenizer\n",
    "from keras.layers import SimpleRNN, Embedding"
   ]
  },
  {
   "cell_type": "code",
   "execution_count": 0,
   "metadata": {
    "colab": {},
    "colab_type": "code",
    "id": "cDI2GMfkCUf5",
    "outputId": "795f5cb9-916d-4aa2-b082-16a804921eb4",
    "scrolled": true
   },
   "outputs": [
    {
     "data": {
      "text/plain": [
       "(6480, 2)"
      ]
     },
     "execution_count": 224,
     "metadata": {
      "tags": []
     },
     "output_type": "execute_result"
    }
   ],
   "source": [
    "df_benigh['class'] = 1\n",
    "df_malicious['class'] = 0\n",
    "np.random.seed(0)\n",
    "\n",
    "# Downsizing the major class samples due to the extreme imbalance of the dataset\n",
    "x_1 = df_benigh.sample(frac=5*df_malicious.shape[0]/df_benigh.shape[0]) #5:1\n",
    "x_1.shape"
   ]
  },
  {
   "cell_type": "code",
   "execution_count": 0,
   "metadata": {
    "colab": {},
    "colab_type": "code",
    "collapsed": true,
    "id": "gSobKMIICUf9"
   },
   "outputs": [],
   "source": [
    "df = pd.concat([x_1, df_malicious], ignore_index = True).reset_index()\n",
    "tokenizer = Tokenizer(filters=None, char_level=True)\n",
    "tokenizer.fit_on_texts(df['urls'])\n",
    "\n",
    "X_train = tokenizer.texts_to_sequences(df['urls'])\n",
    "y_train = df['class']\n",
    "#y_train = np_utils.to_categorical(df['class'], 2)\n",
    "\n",
    "max_features = 1000\n",
    "maxlen = df['urls'].str.len().max()"
   ]
  },
  {
   "cell_type": "code",
   "execution_count": 0,
   "metadata": {
    "colab": {},
    "colab_type": "code",
    "collapsed": true,
    "id": "HpIizZy8CUgA"
   },
   "outputs": [],
   "source": [
    "X_train, X_test, y_train, y_test = train_test_split(X_train, y_train, test_size=0.3, random_state=0)"
   ]
  },
  {
   "cell_type": "code",
   "execution_count": 0,
   "metadata": {
    "colab": {},
    "colab_type": "code",
    "collapsed": true,
    "id": "9_LHKWG0CUgC"
   },
   "outputs": [],
   "source": [
    "input_train = sequence.pad_sequences(X_train, maxlen)\n",
    "input_test = sequence.pad_sequences(X_test, maxlen)"
   ]
  },
  {
   "cell_type": "code",
   "execution_count": 0,
   "metadata": {
    "colab": {},
    "colab_type": "code",
    "id": "gKxAdnO4CUgD",
    "outputId": "f99ff366-440b-4ec4-cb0a-71d9dff52349"
   },
   "outputs": [
    {
     "data": {
      "text/plain": [
       "(2333, 86)"
      ]
     },
     "execution_count": 228,
     "metadata": {
      "tags": []
     },
     "output_type": "execute_result"
    }
   ],
   "source": [
    "input_test.shape"
   ]
  },
  {
   "cell_type": "code",
   "execution_count": 0,
   "metadata": {
    "colab": {},
    "colab_type": "code",
    "collapsed": true,
    "id": "j8LYVyGbCUgF"
   },
   "outputs": [],
   "source": [
    "rnn_model = Sequential()\n",
    "rnn_model.add(Embedding(max_features, 64))\n",
    "rnn_model.add(SimpleRNN(32))\n",
    "rnn_model.add(Dense(1, activation='sigmoid'))\n",
    "rnn_model.compile(optimizer=\"rmsprop\", loss=\"binary_crossentropy\", metrics=[\"acc\"])"
   ]
  },
  {
   "cell_type": "code",
   "execution_count": 0,
   "metadata": {
    "colab": {},
    "colab_type": "code",
    "id": "QIqI5SsGCUgH",
    "outputId": "e02212cf-5a28-4c60-84a8-fd64df2799a4"
   },
   "outputs": [
    {
     "name": "stdout",
     "output_type": "stream",
     "text": [
      "Epoch 1/10\n",
      "5443/5443 [==============================] - 12s 2ms/step - loss: 0.1678 - acc: 0.9339\n",
      "Epoch 2/10\n",
      "5443/5443 [==============================] - 11s 2ms/step - loss: 0.0720 - acc: 0.9759\n",
      "Epoch 3/10\n",
      "5443/5443 [==============================] - 10s 2ms/step - loss: 0.0605 - acc: 0.9813\n",
      "Epoch 4/10\n",
      "5443/5443 [==============================] - 10s 2ms/step - loss: 0.0565 - acc: 0.9840\n",
      "Epoch 5/10\n",
      "5443/5443 [==============================] - 12s 2ms/step - loss: 0.0476 - acc: 0.9838\n",
      "Epoch 6/10\n",
      "5443/5443 [==============================] - 12s 2ms/step - loss: 0.0489 - acc: 0.9846\n",
      "Epoch 7/10\n",
      "5443/5443 [==============================] - 14s 3ms/step - loss: 0.0448 - acc: 0.9859\n",
      "Epoch 8/10\n",
      "5443/5443 [==============================] - 12s 2ms/step - loss: 0.0389 - acc: 0.9879\n",
      "Epoch 9/10\n",
      "5443/5443 [==============================] - 12s 2ms/step - loss: 0.0419 - acc: 0.9870\n",
      "Epoch 10/10\n",
      "5443/5443 [==============================] - 13s 2ms/step - loss: 0.0403 - acc: 0.9879: 0s - loss: 0.041\n"
     ]
    },
    {
     "data": {
      "text/plain": [
       "<keras.callbacks.History at 0x16c58d2be48>"
      ]
     },
     "execution_count": 195,
     "metadata": {
      "tags": []
     },
     "output_type": "execute_result"
    }
   ],
   "source": [
    "rnn_model.fit(input_train, y_train, epochs=10, batch_size=8)"
   ]
  },
  {
   "cell_type": "code",
   "execution_count": 0,
   "metadata": {
    "colab": {},
    "colab_type": "code",
    "collapsed": true,
    "id": "LpSdtQnBCUgK"
   },
   "outputs": [],
   "source": [
    "rnn_model.save('rnn_model.f5')"
   ]
  },
  {
   "cell_type": "code",
   "execution_count": 0,
   "metadata": {
    "colab": {},
    "colab_type": "code",
    "id": "1We9GLkNCUgM",
    "outputId": "d8fa66ee-a9cb-4acc-b3ec-a240e1cc5128"
   },
   "outputs": [
    {
     "name": "stdout",
     "output_type": "stream",
     "text": [
      "2333/2333 [==============================] - 1s 283us/step\n",
      "Test loss: 0.06139070950959483\n",
      "Test accuracy: 0.9858551219303722\n"
     ]
    }
   ],
   "source": [
    "score = rnn_model.evaluate(input_test, y_test, verbose=1)\n",
    "print('Test loss:', score[0])\n",
    "print('Test accuracy:', score[1])"
   ]
  },
  {
   "cell_type": "markdown",
   "metadata": {
    "colab_type": "text",
    "id": "h3i14KLoCUgR"
   },
   "source": [
    "### 3.2 CNN\n",
    "\n",
    "Build and train a 1D CNN for this text classification task. You might gain some insight and inspiration from these text classification approaches:\n"
   ]
  },
  {
   "cell_type": "code",
   "execution_count": 0,
   "metadata": {
    "colab": {},
    "colab_type": "code",
    "id": "VY59_4RtCUgR",
    "outputId": "62c289ea-9ac9-43cd-9d15-9118f12f80ac"
   },
   "outputs": [
    {
     "name": "stdout",
     "output_type": "stream",
     "text": [
      "_________________________________________________________________\n",
      "Layer (type)                 Output Shape              Param #   \n",
      "=================================================================\n",
      "embedding_15 (Embedding)     (None, 86, 64)            64000     \n",
      "_________________________________________________________________\n",
      "conv1d_8 (Conv1D)            (None, 84, 32)            6176      \n",
      "_________________________________________________________________\n",
      "flatten_3 (Flatten)          (None, 2688)              0         \n",
      "_________________________________________________________________\n",
      "dense_13 (Dense)             (None, 1)                 2689      \n",
      "=================================================================\n",
      "Total params: 72,865\n",
      "Trainable params: 72,865\n",
      "Non-trainable params: 0\n",
      "_________________________________________________________________\n"
     ]
    }
   ],
   "source": [
    "from keras.layers import Conv1D\n",
    "\n",
    "cnn_model = Sequential()\n",
    "cnn_model.add(Embedding(max_features, 64, input_length = maxlen))\n",
    "cnn_model.add(Conv1D(32, 3, activation='relu'))\n",
    "cnn_model.add(Flatten())\n",
    "cnn_model.add(Dense(1, activation='sigmoid'))\n",
    "cnn_model.compile(optimizer=\"rmsprop\", loss=\"binary_crossentropy\", metrics=[\"acc\"])\n",
    "cnn_model.summary()"
   ]
  },
  {
   "cell_type": "code",
   "execution_count": 0,
   "metadata": {
    "colab": {},
    "colab_type": "code",
    "id": "klcWje8CCUgV",
    "outputId": "6dc0cc70-871c-44ee-b2a3-e9fb4bea7351"
   },
   "outputs": [
    {
     "name": "stdout",
     "output_type": "stream",
     "text": [
      "Epoch 1/10\n",
      "5443/5443 [==============================] - 5s 1ms/step - loss: 0.1988 - acc: 0.9138\n",
      "Epoch 2/10\n",
      "5443/5443 [==============================] - 5s 877us/step - loss: 0.0786 - acc: 0.9752\n",
      "Epoch 3/10\n",
      "5443/5443 [==============================] - 5s 883us/step - loss: 0.0647 - acc: 0.9827\n",
      "Epoch 4/10\n",
      "5443/5443 [==============================] - 5s 886us/step - loss: 0.0586 - acc: 0.9835\n",
      "Epoch 5/10\n",
      "5443/5443 [==============================] - 5s 937us/step - loss: 0.0544 - acc: 0.9855\n",
      "Epoch 6/10\n",
      "5443/5443 [==============================] - 5s 864us/step - loss: 0.0516 - acc: 0.9844\n",
      "Epoch 7/10\n",
      "5443/5443 [==============================] - 5s 859us/step - loss: 0.0475 - acc: 0.9857\n",
      "Epoch 8/10\n",
      "5443/5443 [==============================] - 5s 887us/step - loss: 0.0463 - acc: 0.9875\n",
      "Epoch 9/10\n",
      "5443/5443 [==============================] - 5s 888us/step - loss: 0.0451 - acc: 0.9868\n",
      "Epoch 10/10\n",
      "5443/5443 [==============================] - 6s 1ms/step - loss: 0.0417 - acc: 0.9877\n"
     ]
    },
    {
     "data": {
      "text/plain": [
       "<keras.callbacks.History at 0x16c5720fd68>"
      ]
     },
     "execution_count": 229,
     "metadata": {
      "tags": []
     },
     "output_type": "execute_result"
    }
   ],
   "source": [
    "cnn_model.fit(input_train, y_train, epochs=10, batch_size=8)"
   ]
  },
  {
   "cell_type": "code",
   "execution_count": 0,
   "metadata": {
    "colab": {},
    "colab_type": "code",
    "id": "jLGF5NtkCUgX",
    "outputId": "4ab07557-4bc5-4bfb-b479-473d7f907ee4"
   },
   "outputs": [
    {
     "name": "stdout",
     "output_type": "stream",
     "text": [
      "2333/2333 [==============================] - 0s 146us/step\n",
      "Test loss: 0.07423437692734353\n",
      "Test accuracy: 0.9841405912831368\n"
     ]
    }
   ],
   "source": [
    "score = cnn_model.evaluate(input_test, y_test, verbose=1)\n",
    "print('Test loss:', score[0])\n",
    "print('Test accuracy:', score[1])"
   ]
  },
  {
   "cell_type": "markdown",
   "metadata": {
    "colab_type": "text",
    "id": "sDF6UySYCUga"
   },
   "source": [
    "### 3.3\n",
    "\n",
    "Be sure to directly compare your two methods with an ROC curve or similar validation method. Don’t forget to create a train-test split."
   ]
  },
  {
   "cell_type": "code",
   "execution_count": 0,
   "metadata": {
    "colab": {},
    "colab_type": "code",
    "collapsed": true,
    "id": "c5CyF1q-CUgb"
   },
   "outputs": [],
   "source": [
    "from sklearn.metrics import roc_curve\n",
    "\n",
    "y_pred_rnn = rnn_model.predict(input_test).ravel()\n",
    "fpr_rnn, tpr_rnn, thresholds_rnn = roc_curve(y_test, y_pred_rnn)\n",
    "\n",
    "y_pred_cnn = cnn_model.predict(input_test).ravel()\n",
    "fpr_cnn, tpr_cnn, thresholds_cnn = roc_curve(y_test, y_pred_cnn)"
   ]
  },
  {
   "cell_type": "code",
   "execution_count": 0,
   "metadata": {
    "colab": {},
    "colab_type": "code",
    "collapsed": true,
    "id": "QNFcGBw4CUgc"
   },
   "outputs": [],
   "source": [
    "from sklearn.metrics import auc\n",
    "auc_rnn = auc(fpr_rnn, tpr_rnn)\n",
    "auc_cnn = auc(fpr_cnn, tpr_cnn)"
   ]
  },
  {
   "cell_type": "code",
   "execution_count": 0,
   "metadata": {
    "colab": {},
    "colab_type": "code",
    "id": "23pSwvjZCUgf",
    "outputId": "1f9018e7-3b30-4cac-beef-1e30812273b0"
   },
   "outputs": [
    {
     "data": {
      "image/png": "[encoded data removed]",
      "text/plain": [
       "<matplotlib.figure.Figure at 0x16c3f8dea90>"
      ]
     },
     "metadata": {
      "tags": []
     },
     "output_type": "display_data"
    }
   ],
   "source": [
    "plt.figure()\n",
    "plt.plot([0, 1], [0, 1], 'k--')\n",
    "plt.plot(fpr_rnn, tpr_rnn, label='RNN (area = {:.4f})'.format(auc_rnn))\n",
    "plt.plot(fpr_cnn, tpr_cnn, label='CNN (area = {:.4f})'.format(auc_cnn))\n",
    "plt.xlabel('False positive rate')\n",
    "plt.ylabel('True positive rate')\n",
    "plt.title('ROC curve')\n",
    "plt.legend(loc='best')\n",
    "plt.show()"
   ]
  },
  {
   "cell_type": "markdown",
   "metadata": {
    "colab_type": "text",
    "id": "qx69aHcfd0id"
   },
   "source": [
    "According to the ROC curve above, both the CNN and RNN have a AUC score extremely close to 1 (RNN is slightly higher), which indicates their performance is very good."
   ]
  }
 ],
 "metadata": {
  "accelerator": "GPU",
  "colab": {
   "collapsed_sections": [
    "jWU04yv_CUf2",
    "sDF6UySYCUga"
   ],
   "name": "Assignment 2.ipynb",
   "provenance": [],
   "version": "0.3.2"
  },
  "kernelspec": {
   "display_name": "Python 3",
   "language": "python",
   "name": "python3"
  },
  "language_info": {
   "codemirror_mode": {
    "name": "ipython",
    "version": 3
   },
   "file_extension": ".py",
   "mimetype": "text/x-python",
   "name": "python",
   "nbconvert_exporter": "python",
   "pygments_lexer": "ipython3",
   "version": "3.6.3"
  }
 },
 "nbformat": 4,
 "nbformat_minor": 1
}
